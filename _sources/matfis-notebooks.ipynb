{
 "cells": [
  {
   "cell_type": "markdown",
   "id": "dc05c74a",
   "metadata": {},
   "source": [
    "# Matfis-Notebooks (_MyST Markdown_)\n",
    "\n",
    "Jupyter Book juga memungkinkan kita untuk menyusun sebuah notebook yang berbasis teks dengan memanfaatkan _MyST Markdown_.\n",
    "Lihat [Dokumentasi Notebook dengan _MyST Markdown_](https://jupyterbook.org/file-types/myst-notebooks.html) untuk intruksi yang lebih terperinci.\n",
    "\n",
    "Berikut ini menunjukkan halaman yang ditulis dengan memanfaatkan _MyST Markdown_.\n",
    "\n",
    "## Sebuah Sel Contoh\n",
    "\n",
    "Dengan _MyST Markdown_, kita dapat mendefinisikan \"code cells\" sebagai berikut:"
   ]
  },
  {
   "cell_type": "code",
   "execution_count": 1,
   "id": "331921cc",
   "metadata": {},
   "outputs": [
    {
     "name": "stdout",
     "output_type": "stream",
     "text": [
      "4\n"
     ]
    }
   ],
   "source": [
    "print(2 + 2)"
   ]
  },
  {
   "cell_type": "markdown",
   "id": "fbc9e0e4",
   "metadata": {},
   "source": [
    "Ketika buku kita dibangun (melalui perintah \"_jb build <nama buku kita>_\")\n",
    "konten yang mengandung blok `{code-cell}` akan dieksekusi dengan  \"_Jupyter Kernel_\", dan  outputnya akan ditayangkan bersama-sama dengan konten lainnya.\n",
    "\n",
    "\n",
    "```{seealso}\n",
    "Jupyter Book menggunakan [Jupytext](https://jupytext.readthedocs.io/en/latest/) untuk mengkonversi file yang berbasis teks menjadi notebook, dan dapat mendukung [banyak notebook berbasis teks](https://jupyterbook.org/file-types/jupytext.html).\n",
    "```\n",
    "\n",
    "## Membuat Notebook dengan _MyST Markdown_\n",
    "\n",
    "Notebook _MyST Markdown_ didefinisikan melalui dua hal:\n",
    "\n",
    "1. Metadata YAML yang diperlukan untuk memahami/ bagaimana file teks dikonversi menjadi notebook (termasuk informasi tentang kernel yang diperlukan).\n",
    "   Lihat YAML di atas sebagai contoh.\n",
    "2. Keberadaan direktif  `{code-cell}` yang akan dieksekusi dengan buku Anda.\n",
    "\n",
    "Itulah yang semua kita perlukan untuk memulai!\n",
    "\n",
    "## Menambah _Metadata YAML_ untuk  _Notebook MyST_\n",
    "\n",
    "Jika Anda mempunyai file markdown dan kita menginginkan secara cepat menambahkan metadata YAML pada file tersebut, sehingga Jupyter Book memberlakukannya sebagai sebuah Notebook MyST Markdown, jalankan perintah berikut:\n",
    "\n",
    "```\n",
    "jupyter-book myst init path/to/markdownfile.md\n",
    "```"
   ]
  }
 ],
 "metadata": {
  "jupytext": {
   "formats": "md:myst",
   "text_representation": {
    "extension": ".md",
    "format_name": "myst",
    "format_version": 0.13,
    "jupytext_version": "1.11.5"
   }
  },
  "kernelspec": {
   "display_name": "Python 3",
   "language": "python",
   "name": "python3"
  },
  "language_info": {
   "codemirror_mode": {
    "name": "ipython",
    "version": 3
   },
   "file_extension": ".py",
   "mimetype": "text/x-python",
   "name": "python",
   "nbconvert_exporter": "python",
   "pygments_lexer": "ipython3",
   "version": "3.11.7"
  },
  "source_map": [
   13,
   26,
   28
  ]
 },
 "nbformat": 4,
 "nbformat_minor": 5
}