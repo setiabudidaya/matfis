{
 "cells": [
  {
   "cell_type": "markdown",
   "metadata": {},
   "source": [
    "# Matfis dengan Notebooks\n",
    "\n",
    "Sumber: https://colab.research.google.com/github/drvinceknight/Python-Mathematics-Handbook/blob/master/02-Linear-algebra-with-Numpy.ipynb#scrollTo=5_aVvPK-J370\n",
    "\n",
    "Kita dimungkinkan untuk mempelajari aljabar linier secara simbolik dengan library\n",
    "[Sympy](http://www.sympy.org/en/index.html) tetapi untuk komputasi numerik library [Numpy](http://www.numpy.org/) adalah merupakan pilihan terbaik karena sudah terbukti menunjukkan performa yang baik.<br>\n",
    "Berikut adalah deskripsi tentang Numpy:\n",
    "> NumPy is the fundamental package for scientific computing with Python. It contains among other things: [...]  useful linear algebra, Fourier transform, and random number capabilitie.\n",
    "\n",
    "Di dalam bagian ini kita akan mempelajari bagaimana cara:\n",
    "- memanipulasi matriks;\n",
    "- memecahkan persamaan matriks;\n",
    "- menghitung invers dan determinan matriks.\n",
    "\n",
    "## Memanipulasi matriks\n",
    "\n",
    "Dengan menggunakan Numpy kita bisa langsung membentuk sebuah matriks. Tinjau contoh berikut:  \n",
    "\n"
   ]
  },
  {
   "cell_type": "markdown",
   "metadata": {},
   "source": [
    "$$\n",
    "A = \\begin{pmatrix}\n",
    "5 & 6 & 2\\\\\n",
    "4 & 7 & 19\\\\\n",
    "0 & 3 & 12\n",
    "\\end{pmatrix} \n",
    "$$"
   ]
  },
  {
   "cell_type": "markdown",
   "metadata": {},
   "source": [
    "$$\n",
    "B = \\begin{pmatrix}\n",
    "14 & -2 & 12\\\\\n",
    "4 & 4 & 5\\\\\n",
    "5 & 5 & 1\n",
    "\\end{pmatrix}\n",
    "$$\n",
    "\n",
    "Pertama, kita perlu meng-import Numpy"
   ]
  },
  {
   "cell_type": "code",
   "execution_count": 1,
   "metadata": {},
   "outputs": [],
   "source": [
    "import numpy as np\n"
   ]
  },
  {
   "cell_type": "markdown",
   "metadata": {},
   "source": [
    "Sekarang kita dapat mendefinisikan A dan B:"
   ]
  },
  {
   "cell_type": "code",
   "execution_count": 3,
   "metadata": {},
   "outputs": [],
   "source": [
    "A = np.matrix([[5, 6, 2],\n",
    "               [4, 7, 19],\n",
    "               [0, 3, 12]])"
   ]
  },
  {
   "cell_type": "code",
   "execution_count": 4,
   "metadata": {},
   "outputs": [
    {
     "data": {
      "text/plain": [
       "matrix([[ 5,  6,  2],\n",
       "        [ 4,  7, 19],\n",
       "        [ 0,  3, 12]])"
      ]
     },
     "execution_count": 4,
     "metadata": {},
     "output_type": "execute_result"
    }
   ],
   "source": [
    "A"
   ]
  },
  {
   "cell_type": "code",
   "execution_count": 5,
   "metadata": {},
   "outputs": [],
   "source": [
    "B = np.matrix([[14, -2, 12],\n",
    "               [4, 4, 5],\n",
    "               [5, 5, 1]])"
   ]
  },
  {
   "cell_type": "code",
   "execution_count": 6,
   "metadata": {},
   "outputs": [
    {
     "data": {
      "text/plain": [
       "matrix([[14, -2, 12],\n",
       "        [ 4,  4,  5],\n",
       "        [ 5,  5,  1]])"
      ]
     },
     "execution_count": 6,
     "metadata": {},
     "output_type": "execute_result"
    }
   ],
   "source": [
    "B"
   ]
  },
  {
   "cell_type": "markdown",
   "metadata": {},
   "source": [
    "Kita dapat mendapatkan berikut ini secara langsung:<br>\n",
    " \n",
    "\n",
    "$ 5A, A^3, (A + B), (A - B),\\text{dan} AB $  \n",
    " \n"
   ]
  },
  {
   "cell_type": "code",
   "execution_count": 7,
   "metadata": {},
   "outputs": [
    {
     "data": {
      "text/plain": [
       "matrix([[25, 30, 10],\n",
       "        [20, 35, 95],\n",
       "        [ 0, 15, 60]])"
      ]
     },
     "execution_count": 7,
     "metadata": {},
     "output_type": "execute_result"
    }
   ],
   "source": [
    "5*A"
   ]
  },
  {
   "cell_type": "code",
   "execution_count": 8,
   "metadata": {},
   "outputs": [
    {
     "data": {
      "text/plain": [
       "matrix([[ 557, 1284, 3356],\n",
       "        [ 760, 2305, 6994],\n",
       "        [ 288, 1074, 3519]])"
      ]
     },
     "execution_count": 8,
     "metadata": {},
     "output_type": "execute_result"
    }
   ],
   "source": [
    "A**3"
   ]
  },
  {
   "cell_type": "code",
   "execution_count": 9,
   "metadata": {},
   "outputs": [
    {
     "data": {
      "text/plain": [
       "matrix([[19,  4, 14],\n",
       "        [ 8, 11, 24],\n",
       "        [ 5,  8, 13]])"
      ]
     },
     "execution_count": 9,
     "metadata": {},
     "output_type": "execute_result"
    }
   ],
   "source": [
    "A+B"
   ]
  },
  {
   "cell_type": "code",
   "execution_count": 10,
   "metadata": {},
   "outputs": [
    {
     "data": {
      "text/plain": [
       "matrix([[ -9,   8, -10],\n",
       "        [  0,   3,  14],\n",
       "        [ -5,  -2,  11]])"
      ]
     },
     "execution_count": 10,
     "metadata": {},
     "output_type": "execute_result"
    }
   ],
   "source": [
    "A-B"
   ]
  },
  {
   "cell_type": "code",
   "execution_count": 11,
   "metadata": {},
   "outputs": [
    {
     "data": {
      "text/plain": [
       "matrix([[104,  24,  92],\n",
       "        [179, 115, 102],\n",
       "        [ 72,  72,  27]])"
      ]
     },
     "execution_count": 11,
     "metadata": {},
     "output_type": "execute_result"
    }
   ],
   "source": [
    "A*B"
   ]
  },
  {
   "cell_type": "markdown",
   "metadata": {},
   "source": [
    "**Latihan**<br>\n",
    "\n",
    "Hitung $A ^ 2 - 2 A + 3$ dengan <br>\n",
    "\n",
    "$$ A = \r\n",
    "\\begin{pmatrix}\r\n",
    "1 & -1\\\\\r\n",
    "2 & 1\r\n",
    "\\end{pmatrix}\r\n",
    "$$"
   ]
  },
  {
   "cell_type": "markdown",
   "metadata": {},
   "source": [
    "## Memecahkan persamaan matriks <br>\n",
    "Kita dapat menggunakan Numpy secara efisien untuk memecahkan sistem persamaan yang besar dengan bentuk:<br>\n",
    "$$ Ax=b$$\n",
    "\n",
    "Sebagai ilustrasi, mari selesaikan soal berikut:<br>\n",
    "$$\r\n",
    "A = \\begin{pmatrix}\r\n",
    "5 & 6 & 2\\\\\r\n",
    "4 & 7 & 19\\\\\r\n",
    "0 & 3 & 12\r\n",
    "\\end{pmatrix}\r\n",
    "$$\r\n",
    "\r\n",
    "$$\r\n",
    "b = \\begin{pmatrix}\r\n",
    "-1\\\\\r\n",
    "2\\\\\r\n",
    "1 \r\n",
    "\\end{pmatrix}\r\n",
    "$$\n",
    "\n"
   ]
  },
  {
   "cell_type": "code",
   "execution_count": 12,
   "metadata": {},
   "outputs": [],
   "source": [
    "A = np.matrix([[5, 6, 2],\n",
    "               [4, 7, 19],\n",
    "               [0, 3, 12]])\n",
    "b = np.matrix([[-1], [2], [1]])"
   ]
  },
  {
   "cell_type": "markdown",
   "metadata": {},
   "source": [
    "Kita menggunakan perintah $ \\text {linalg.solve}   $"
   ]
  },
  {
   "cell_type": "code",
   "execution_count": 13,
   "metadata": {},
   "outputs": [
    {
     "data": {
      "text/plain": [
       "matrix([[ 0.45736434],\n",
       "        [-0.62790698],\n",
       "        [ 0.24031008]])"
      ]
     },
     "execution_count": 13,
     "metadata": {},
     "output_type": "execute_result"
    }
   ],
   "source": [
    "x = np.linalg.solve(A, b)\n",
    "x"
   ]
  },
  {
   "cell_type": "markdown",
   "metadata": {},
   "source": [
    "Kita dapat memverifikasi hasilnya dengan "
   ]
  },
  {
   "cell_type": "code",
   "execution_count": 14,
   "metadata": {},
   "outputs": [
    {
     "data": {
      "text/plain": [
       "matrix([[-1.],\n",
       "        [ 2.],\n",
       "        [ 1.]])"
      ]
     },
     "execution_count": 14,
     "metadata": {},
     "output_type": "execute_result"
    }
   ],
   "source": [
    "A * x"
   ]
  },
  {
   "cell_type": "code",
   "execution_count": null,
   "metadata": {},
   "outputs": [],
   "source": []
  }
 ],
 "metadata": {
  "kernelspec": {
   "display_name": "Python 3 (ipykernel)",
   "language": "python",
   "name": "python3"
  },
  "language_info": {
   "codemirror_mode": {
    "name": "ipython",
    "version": 3
   },
   "file_extension": ".py",
   "mimetype": "text/x-python",
   "name": "python",
   "nbconvert_exporter": "python",
   "pygments_lexer": "ipython3",
   "version": "3.11.7"
  },
  "widgets": {
   "application/vnd.jupyter.widget-state+json": {
    "state": {},
    "version_major": 2,
    "version_minor": 0
   }
  }
 },
 "nbformat": 4,
 "nbformat_minor": 4
}
