{
  "cells": [
    {
      "cell_type": "markdown",
      "metadata": {
        "id": "view-in-github",
        "colab_type": "text"
      },
      "source": [
        "<a href=\"https://colab.research.google.com/github/setiabudidaya/matfis/blob/main/notebooks.ipynb\" target=\"_parent\"><img src=\"https://colab.research.google.com/assets/colab-badge.svg\" alt=\"Open In Colab\"/></a>"
      ]
    },
    {
      "cell_type": "markdown",
      "metadata": {
        "id": "VQR-1Ly-IA6w"
      },
      "source": [
        "<a href=\"https://colab.research.google.com/gist/setiabudidaya/6bd31538d953b3cbb9c60680d728a576/notebooks.ipynb\" target=\"_parent\"><img src=\"https://colab.research.google.com/assets/colab-badge.svg\" alt=\"Open In Colab\"/></a>\n",
        "\n"
      ]
    },
    {
      "cell_type": "markdown",
      "metadata": {
        "id": "85EU6MkYIA67"
      },
      "source": [
        "# Matfis dengan Notebooks\n",
        "\n",
        "Sumber: https://colab.research.google.com/github/drvinceknight/Python-Mathematics-Handbook/blob/master/02-Linear-algebra-with-Numpy.ipynb#scrollTo=5_aVvPK-J370\n",
        "\n",
        "Kita dimungkinkan untuk mempelajari aljabar linier secara simbolik dengan library\n",
        "[Sympy](http://www.sympy.org/en/index.html) tetapi untuk komputasi numerik library [Numpy](http://www.numpy.org/) adalah merupakan pilihan terbaik karena sudah terbukti menunjukkan performa yang baik.<br>\n",
        "Berikut adalah deskripsi tentang Numpy:\n",
        "> NumPy is the fundamental package for scientific computing with Python. It contains among other things: [...]  useful linear algebra, Fourier transform, and random number capabilitie.\n",
        "\n",
        "Di dalam bagian ini kita akan mempelajari bagaimana cara:\n",
        "- memanipulasi matriks;\n",
        "- memecahkan persamaan matriks;\n",
        "- menghitung invers dan determinan matriks.\n",
        "\n",
        "## Memanipulasi matriks\n",
        "\n",
        "Dengan menggunakan Numpy kita bisa langsung membentuk sebuah matriks. Tinjau contoh berikut:  \n",
        "\n"
      ]
    },
    {
      "cell_type": "markdown",
      "metadata": {
        "id": "Q5Nw-iyBIA69"
      },
      "source": [
        "$$\n",
        "A = \\begin{pmatrix}\n",
        "5 & 6 & 2\\\\\n",
        "4 & 7 & 19\\\\\n",
        "0 & 3 & 12\n",
        "\\end{pmatrix}\n",
        "$$"
      ]
    },
    {
      "cell_type": "markdown",
      "metadata": {
        "id": "OkNFn9bqIA6_"
      },
      "source": [
        "$$\n",
        "B = \\begin{pmatrix}\n",
        "14 & -2 & 12\\\\\n",
        "4 & 4 & 5\\\\\n",
        "5 & 5 & 1\n",
        "\\end{pmatrix}\n",
        "$$\n",
        "\n",
        "Pertama, kita perlu meng-import Numpy"
      ]
    },
    {
      "cell_type": "code",
      "execution_count": null,
      "metadata": {
        "id": "l3RDKl23IA7A"
      },
      "outputs": [],
      "source": [
        "import numpy as np\n"
      ]
    },
    {
      "cell_type": "markdown",
      "metadata": {
        "id": "9stS3LDmIA7E"
      },
      "source": [
        "Sekarang kita dapat mendefinisikan A dan B:"
      ]
    },
    {
      "cell_type": "code",
      "execution_count": null,
      "metadata": {
        "id": "eB2rm6mTIA7F"
      },
      "outputs": [],
      "source": [
        "A = np.matrix([[5, 6, 2],\n",
        "               [4, 7, 19],\n",
        "               [0, 3, 12]])"
      ]
    },
    {
      "cell_type": "code",
      "execution_count": null,
      "metadata": {
        "id": "Lfp1eF9tIA7G",
        "outputId": "28a2d534-597e-49da-ff47-c79be19ad7fe"
      },
      "outputs": [
        {
          "data": {
            "text/plain": [
              "matrix([[ 5,  6,  2],\n",
              "        [ 4,  7, 19],\n",
              "        [ 0,  3, 12]])"
            ]
          },
          "execution_count": 4,
          "metadata": {},
          "output_type": "execute_result"
        }
      ],
      "source": [
        "A"
      ]
    },
    {
      "cell_type": "code",
      "execution_count": null,
      "metadata": {
        "id": "stbHOjPMIA7J"
      },
      "outputs": [],
      "source": [
        "B = np.matrix([[14, -2, 12],\n",
        "               [4, 4, 5],\n",
        "               [5, 5, 1]])"
      ]
    },
    {
      "cell_type": "code",
      "execution_count": null,
      "metadata": {
        "id": "_fYqwhlLIA7K",
        "outputId": "5503422f-0e6b-45e1-cb95-6b284dbd25c1"
      },
      "outputs": [
        {
          "data": {
            "text/plain": [
              "matrix([[14, -2, 12],\n",
              "        [ 4,  4,  5],\n",
              "        [ 5,  5,  1]])"
            ]
          },
          "execution_count": 6,
          "metadata": {},
          "output_type": "execute_result"
        }
      ],
      "source": [
        "B"
      ]
    },
    {
      "cell_type": "markdown",
      "metadata": {
        "id": "niF_sx40IA7M"
      },
      "source": [
        "Kita dapat mendapatkan berikut ini secara langsung:<br>\n",
        "\n",
        "\n",
        "$ 5A,\\; A^3,\\; (A + B),\\; (A - B),\\;\\text{dan} \\; AB $  \n",
        "\n"
      ]
    },
    {
      "cell_type": "code",
      "execution_count": null,
      "metadata": {
        "id": "hq6sGzOBIA7M",
        "outputId": "9e7a0be9-14a0-48e1-c2f1-3665be2c4a25"
      },
      "outputs": [
        {
          "data": {
            "text/plain": [
              "matrix([[25, 30, 10],\n",
              "        [20, 35, 95],\n",
              "        [ 0, 15, 60]])"
            ]
          },
          "execution_count": 7,
          "metadata": {},
          "output_type": "execute_result"
        }
      ],
      "source": [
        "5*A"
      ]
    },
    {
      "cell_type": "code",
      "execution_count": null,
      "metadata": {
        "id": "DyKubb3XIA7N",
        "outputId": "cdd1dc81-3195-4bfa-b294-80282cbc680b"
      },
      "outputs": [
        {
          "data": {
            "text/plain": [
              "matrix([[ 557, 1284, 3356],\n",
              "        [ 760, 2305, 6994],\n",
              "        [ 288, 1074, 3519]])"
            ]
          },
          "execution_count": 8,
          "metadata": {},
          "output_type": "execute_result"
        }
      ],
      "source": [
        "A**3"
      ]
    },
    {
      "cell_type": "code",
      "execution_count": null,
      "metadata": {
        "id": "JtS4sdYrIA7N",
        "outputId": "f145c535-3ebc-42dc-c5f6-1f7e07f15023"
      },
      "outputs": [
        {
          "data": {
            "text/plain": [
              "matrix([[19,  4, 14],\n",
              "        [ 8, 11, 24],\n",
              "        [ 5,  8, 13]])"
            ]
          },
          "execution_count": 9,
          "metadata": {},
          "output_type": "execute_result"
        }
      ],
      "source": [
        "A+B"
      ]
    },
    {
      "cell_type": "code",
      "execution_count": null,
      "metadata": {
        "id": "7gi7x67rIA7O",
        "outputId": "7b5d4a6b-1494-4635-c361-7e47182be878"
      },
      "outputs": [
        {
          "data": {
            "text/plain": [
              "matrix([[ -9,   8, -10],\n",
              "        [  0,   3,  14],\n",
              "        [ -5,  -2,  11]])"
            ]
          },
          "execution_count": 10,
          "metadata": {},
          "output_type": "execute_result"
        }
      ],
      "source": [
        "A-B"
      ]
    },
    {
      "cell_type": "code",
      "execution_count": null,
      "metadata": {
        "id": "MK_Q_ECrIA7P",
        "outputId": "053cf155-0de2-4fc2-80a8-8a9bebc17f16"
      },
      "outputs": [
        {
          "data": {
            "text/plain": [
              "matrix([[104,  24,  92],\n",
              "        [179, 115, 102],\n",
              "        [ 72,  72,  27]])"
            ]
          },
          "execution_count": 11,
          "metadata": {},
          "output_type": "execute_result"
        }
      ],
      "source": [
        "A*B"
      ]
    },
    {
      "cell_type": "markdown",
      "metadata": {
        "id": "Mq_fKnVCIA7P"
      },
      "source": [
        "**Latihan**<br>\n",
        "\n",
        "Hitung $A ^ 2 - 2 A + 3$ dengan <br>\n",
        "\n",
        "$$ A =\n",
        "\\begin{pmatrix}\n",
        "1 & -1\\\\\n",
        "2 & 1\n",
        "\\end{pmatrix}\n",
        "$$"
      ]
    },
    {
      "cell_type": "markdown",
      "metadata": {
        "id": "GutH5hVfIA7Q"
      },
      "source": [
        "## Memecahkan persamaan matriks <br>\n",
        "Kita dapat menggunakan Numpy secara efisien untuk memecahkan sistem persamaan yang besar dengan bentuk:<br>\n",
        "$$ Ax=b$$\n",
        "\n",
        "Sebagai ilustrasi, mari selesaikan soal berikut:<br>\n",
        "$$\n",
        "A = \\begin{pmatrix}\n",
        "5 & 6 & 2\\\\\n",
        "4 & 7 & 19\\\\\n",
        "0 & 3 & 12\n",
        "\\end{pmatrix}\n",
        "$$\n",
        "\n",
        "$$\n",
        "b = \\begin{pmatrix}\n",
        "-1\\\\\n",
        "2\\\\\n",
        "1\n",
        "\\end{pmatrix}\n",
        "$$\n",
        "\n"
      ]
    },
    {
      "cell_type": "code",
      "execution_count": null,
      "metadata": {
        "id": "Aq-38hGRIA7R"
      },
      "outputs": [],
      "source": [
        "A = np.matrix([[5, 6, 2],\n",
        "               [4, 7, 19],\n",
        "               [0, 3, 12]])\n",
        "b = np.matrix([[-1], [2], [1]])"
      ]
    },
    {
      "cell_type": "markdown",
      "metadata": {
        "id": "aRsyy1KaIA7R"
      },
      "source": [
        "Kita menggunakan perintah $ \\text {linalg.solve}   $"
      ]
    },
    {
      "cell_type": "code",
      "execution_count": null,
      "metadata": {
        "id": "6S0Y6JNxIA7R",
        "outputId": "1e80c918-6792-4198-895e-6237a3d59114"
      },
      "outputs": [
        {
          "data": {
            "text/plain": [
              "matrix([[ 0.45736434],\n",
              "        [-0.62790698],\n",
              "        [ 0.24031008]])"
            ]
          },
          "execution_count": 13,
          "metadata": {},
          "output_type": "execute_result"
        }
      ],
      "source": [
        "x = np.linalg.solve(A, b)\n",
        "x"
      ]
    },
    {
      "cell_type": "markdown",
      "metadata": {
        "id": "Nu5VXpN8IA7S"
      },
      "source": [
        "Kita dapat memverifikasi hasilnya dengan"
      ]
    },
    {
      "cell_type": "code",
      "execution_count": null,
      "metadata": {
        "id": "HHVHYOl1IA7S",
        "outputId": "42a7e064-1a9e-4a2a-dfc4-c02ed32d8e10"
      },
      "outputs": [
        {
          "data": {
            "text/plain": [
              "matrix([[-1.],\n",
              "        [ 2.],\n",
              "        [ 1.]])"
            ]
          },
          "execution_count": 14,
          "metadata": {},
          "output_type": "execute_result"
        }
      ],
      "source": [
        "A * x"
      ]
    },
    {
      "cell_type": "code",
      "execution_count": null,
      "metadata": {
        "id": "Txb7L4PaIA7T"
      },
      "outputs": [],
      "source": []
    }
  ],
  "metadata": {
    "kernelspec": {
      "display_name": "Python 3 (ipykernel)",
      "language": "python",
      "name": "python3"
    },
    "language_info": {
      "codemirror_mode": {
        "name": "ipython",
        "version": 3
      },
      "file_extension": ".py",
      "mimetype": "text/x-python",
      "name": "python",
      "nbconvert_exporter": "python",
      "pygments_lexer": "ipython3",
      "version": "3.11.7"
    },
    "colab": {
      "provenance": [],
      "include_colab_link": true
    }
  },
  "nbformat": 4,
  "nbformat_minor": 0
}